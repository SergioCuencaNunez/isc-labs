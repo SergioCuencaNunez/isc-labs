{
 "cells": [
  {
   "cell_type": "markdown",
   "metadata": {},
   "source": [
    "## 1. Research questions\n",
    "In this section, you should come up with research questions that can be answered with the\n",
    "provided dataset. Try to make them interesting. If you are a group of 2 people, come up with 2\n",
    "research questions. If you are a group of 3 people, come up with 3 research questions."
   ]
  },
  {
   "cell_type": "markdown",
   "metadata": {},
   "source": [
    "## 2. Data\n",
    "In this section, sampling techniques shall be used on the data to obtain a sample of the\n",
    "population from which we can draw conclusions on the whole dataset/US population. Here are\n",
    "some ideas for questions that may be answered (you can add more):\n",
    "- Describe the sampling method, which technique you have used and why.\n",
    "- May the results of your EDA be generalized to the whole population from the sample you\n",
    "have chosen?\n",
    "- Discuss potential sources of bias based on the dataset description, how can these biases\n",
    "affect your conclusions?"
   ]
  },
  {
   "cell_type": "code",
   "execution_count": 1,
   "metadata": {},
   "outputs": [],
   "source": [
    "import numpy as np\n",
    "import scipy.stats as stats\n",
    "import pandas as pd"
   ]
  },
  {
   "cell_type": "code",
   "execution_count": 2,
   "metadata": {},
   "outputs": [
    {
     "name": "stderr",
     "output_type": "stream",
     "text": [
      "C:\\Users\\Elena\\AppData\\Local\\Temp\\ipykernel_18176\\943110771.py:1: DtypeWarning: Columns (11,14,50,53,102,103,104,105,108,111,112,113,118,119,120,121,122,123,125,126,127,130,132,134,139,140,141,142,143,144,145,146,147,148,149,150,151,152,153,154,155,156,157,158,159,160,161,162,163,164,165,166,167,168,169,170,171,172,173,174,175,177,178,179,180,181,182,183,184,185,186,187,188,190,191,192,193,194,195,197,199,200,201,202,203,204,205,206,207,208,209,210,211,212,216,226,227,228,229,230,312) have mixed types. Specify dtype option on import or set low_memory=False.\n",
      "  df = pd.read_csv('brfss2013.csv', sep=\",\", encoding='cp1252', on_bad_lines='skip')\n"
     ]
    }
   ],
   "source": [
    "df = pd.read_csv('brfss2013.csv', sep=\",\", encoding='cp1252', on_bad_lines='skip')"
   ]
  },
  {
   "cell_type": "code",
   "execution_count": 12,
   "metadata": {},
   "outputs": [],
   "source": [
    "df_hypothesis = pd.DataFrame()\n",
    "df_hypothesis['heavyDrinking'] = df['X_rfdrhv4'] \n",
    "df_hypothesis['bingeDrinking'] = df['drnk3ge5']\n",
    "df_hypothesis['actLimitation'] = df['qlactlm2']\n",
    "df_hypothesis['vet'] = df['veteran3']"
   ]
  },
  {
   "cell_type": "code",
   "execution_count": 19,
   "metadata": {},
   "outputs": [
    {
     "data": {
      "text/html": [
       "<div>\n",
       "<style scoped>\n",
       "    .dataframe tbody tr th:only-of-type {\n",
       "        vertical-align: middle;\n",
       "    }\n",
       "\n",
       "    .dataframe tbody tr th {\n",
       "        vertical-align: top;\n",
       "    }\n",
       "\n",
       "    .dataframe thead th {\n",
       "        text-align: right;\n",
       "    }\n",
       "</style>\n",
       "<table border=\"1\" class=\"dataframe\">\n",
       "  <thead>\n",
       "    <tr style=\"text-align: right;\">\n",
       "      <th></th>\n",
       "      <th></th>\n",
       "      <th>heavyDrinking</th>\n",
       "      <th>bingeDrinking</th>\n",
       "    </tr>\n",
       "    <tr>\n",
       "      <th>vet</th>\n",
       "      <th>actLimitation</th>\n",
       "      <th></th>\n",
       "      <th></th>\n",
       "    </tr>\n",
       "  </thead>\n",
       "  <tbody>\n",
       "    <tr>\n",
       "      <th rowspan=\"2\" valign=\"top\">No</th>\n",
       "      <th>No</th>\n",
       "      <td>162419</td>\n",
       "      <td>162419</td>\n",
       "    </tr>\n",
       "    <tr>\n",
       "      <th>Yes</th>\n",
       "      <td>33969</td>\n",
       "      <td>33969</td>\n",
       "    </tr>\n",
       "    <tr>\n",
       "      <th rowspan=\"2\" valign=\"top\">Yes</th>\n",
       "      <th>No</th>\n",
       "      <td>23336</td>\n",
       "      <td>23336</td>\n",
       "    </tr>\n",
       "    <tr>\n",
       "      <th>Yes</th>\n",
       "      <td>7812</td>\n",
       "      <td>7812</td>\n",
       "    </tr>\n",
       "  </tbody>\n",
       "</table>\n",
       "</div>"
      ],
      "text/plain": [
       "                   heavyDrinking  bingeDrinking\n",
       "vet actLimitation                              \n",
       "No  No                    162419         162419\n",
       "    Yes                    33969          33969\n",
       "Yes No                     23336          23336\n",
       "    Yes                     7812           7812"
      ]
     },
     "execution_count": 19,
     "metadata": {},
     "output_type": "execute_result"
    }
   ],
   "source": [
    "df_hypothesis= df_hypothesis.dropna()\n",
    "df_hypothesis.groupby(['vet','actLimitation']).count()"
   ]
  },
  {
   "cell_type": "markdown",
   "metadata": {},
   "source": [
    "## 3. EDA\n",
    "In this section, perform an explorative analysis to answer the proposed questions in the previous\n",
    "section. Justify the results and draw conclusions based on this analysis."
   ]
  },
  {
   "cell_type": "markdown",
   "metadata": {},
   "source": [
    "## 4. Inference statistics\n",
    "In this section, perform a statistical analysis on the data to respond to the research questions\n",
    "proposed in section 1. You have to answer at least one question via confidence interval and at\n",
    "least one question via hypothesis testing. Alternatively, you can answer one of the questions\n",
    "using a Bayesian model. "
   ]
  },
  {
   "cell_type": "markdown",
   "metadata": {},
   "source": [
    "## Inference for two proportions"
   ]
  },
  {
   "cell_type": "code",
   "execution_count": 14,
   "metadata": {},
   "outputs": [
    {
     "name": "stdout",
     "output_type": "stream",
     "text": [
      "Z-score: 32.96144140438771\n",
      "P-value: 0.0\n",
      "Reject the null hypothesis. The proportions are significantly different.\n"
     ]
    }
   ],
   "source": [
    "# Sample data\n",
    "sample_size_vet = len(df_hypothesis[df_hypothesis['vet'] == 'Yes'])\n",
    "sample_size_non_vet = len(df_hypothesis[df_hypothesis['vet'] == 'No'])\n",
    "sample_count_vet_heavy = len(df_hypothesis[(df_hypothesis['vet'] == 'Yes') & (df_hypothesis['actLimitation'] == 'Yes')])\n",
    "sample_count_non_vet_heavy = len(df_hypothesis[(df_hypothesis['vet'] == 'No') & (df_hypothesis['actLimitation'] == 'Yes')])\n",
    "\n",
    "# Sample proportions\n",
    "sample_p_vet = sample_count_vet_heavy/sample_size_vet\n",
    "sample_p_non_vet = sample_count_non_vet_heavy/sample_size_non_vet\n",
    "\n",
    "# Pooled proportion\n",
    "p_pooled = (sample_count_vet_heavy + sample_count_non_vet_heavy)/(sample_size_vet + sample_size_non_vet)\n",
    "\n",
    "# Standard error\n",
    "sample_std = np.sqrt(p_pooled * (1 - p_pooled) * (1 / sample_size_vet + 1 / sample_size_non_vet))\n",
    "\n",
    "# Z-score\n",
    "z_score = (sample_p_vet - sample_p_non_vet) / sample_std\n",
    "\n",
    "# Test type\n",
    "test_type = 'two-sided' # 'one-sided'\n",
    "\n",
    "# Calculate p-value\n",
    "if test_type == 'two-sided':\n",
    "    p_value = 2 * (1 - stats.norm.cdf(abs(z_score)))  # Two-tailed test\n",
    "elif test_type == 'one-sided':\n",
    "    p_value = (1 - stats.norm.cdf(abs(z_score))) # One-tailed test\n",
    "\n",
    "# Significance level\n",
    "alpha = 0.05\n",
    "\n",
    "# Results\n",
    "print(\"Z-score:\", z_score)\n",
    "print(\"P-value:\", p_value)\n",
    "\n",
    "if p_value < alpha:\n",
    "    print(\"Reject the null hypothesis. The proportions are significantly different.\")\n",
    "else:\n",
    "    print(\"Fail to reject the null hypothesis. There is no significant difference between the proportions.\")"
   ]
  },
  {
   "cell_type": "code",
   "execution_count": null,
   "metadata": {},
   "outputs": [],
   "source": []
  }
 ],
 "metadata": {
  "kernelspec": {
   "display_name": "Python 3",
   "language": "python",
   "name": "python3"
  },
  "language_info": {
   "codemirror_mode": {
    "name": "ipython",
    "version": 3
   },
   "file_extension": ".py",
   "mimetype": "text/x-python",
   "name": "python",
   "nbconvert_exporter": "python",
   "pygments_lexer": "ipython3",
   "version": "3.11.9"
  }
 },
 "nbformat": 4,
 "nbformat_minor": 2
}
