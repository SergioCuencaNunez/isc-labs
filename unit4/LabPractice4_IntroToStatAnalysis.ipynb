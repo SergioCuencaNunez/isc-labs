{
 "cells": [
  {
   "cell_type": "markdown",
   "metadata": {},
   "source": [
    "# Laboratory Practice 4 - Introduction to Statistical Analysis\n",
    "\n",
    "- *Introduction to Statistical Computing*\n",
    "- Author: Elena Conderana & Sergio Cuenca\n",
    "- Date: 17/02/2025"
   ]
  },
  {
   "cell_type": "markdown",
   "metadata": {},
   "source": [
    "This lab is to be done outside of class time. You may collaborate with one classmate, but you must identify yourself and his/her name above, in the author's field, and you must submit **your own** lab as this completed *.ipynb* file. \n",
    "\n",
    "Remember to always maintain good programming style by using clear variable names, commenting the code, creating useful, well-formatted graphs with appropriate titles and labels..."
   ]
  },
  {
   "cell_type": "markdown",
   "metadata": {},
   "source": [
    "The sections of this notebook are listed below: \n",
    "\n",
    "1. [Introduction](#introduction)\n",
    "2. [Data](#data)\n",
    "3. [Analysing departure delays and filtering](#delays)\n",
    "4. [Departure delays over months](#delaysmonths)\n",
    "5. [On time departure rate for NYC airports](#airports)"
   ]
  },
  {
   "cell_type": "markdown",
   "metadata": {},
   "source": [
    "----------------------"
   ]
  },
  {
   "cell_type": "markdown",
   "metadata": {},
   "source": [
    "## 1. Introduction <a id=\"introduction\"></a>"
   ]
  },
  {
   "cell_type": "markdown",
   "metadata": {},
   "source": [
    "Some define statistics as the field that focuses on turning information into knowledge. The first step in that process is to summarize and describe the raw information - the data. In this lab we explore flights, specifically a random sample of domestic flights that departed from the three major New York City airport in 2013. We will generate simple graphical and numerical summaries of data on these flights and explore delay times (Exploratory Data Analysis, EDA). As this is a large data set, along the way you'll also learn the indispensable skills of data processing and subsetting."
   ]
  },
  {
   "cell_type": "code",
   "execution_count": 2,
   "metadata": {},
   "outputs": [],
   "source": [
    "import pandas as pd\n",
    "import matplotlib.pyplot as plt\n",
    "import numpy as np"
   ]
  },
  {
   "cell_type": "markdown",
   "metadata": {},
   "source": [
    "## 2. Data <a id=\"data\"></a>"
   ]
  },
  {
   "cell_type": "markdown",
   "metadata": {},
   "source": [
    "The [Bureau of Transportation Statistics](http://www.rita.dot.gov/bts/about/) (BTS) is a statistical agency that is a part of the Research and Innovative \n",
    "Technology Administration (RITA). As its name implies, BTS collects and makes available transportation data, such as the flights data we will be working with in this lab.\n",
    "\n",
    "We begin by loading the `nycflights` data frame:"
   ]
  },
  {
   "cell_type": "code",
   "execution_count": 3,
   "metadata": {},
   "outputs": [
    {
     "data": {
      "text/html": [
       "<div>\n",
       "<style scoped>\n",
       "    .dataframe tbody tr th:only-of-type {\n",
       "        vertical-align: middle;\n",
       "    }\n",
       "\n",
       "    .dataframe tbody tr th {\n",
       "        vertical-align: top;\n",
       "    }\n",
       "\n",
       "    .dataframe thead th {\n",
       "        text-align: right;\n",
       "    }\n",
       "</style>\n",
       "<table border=\"1\" class=\"dataframe\">\n",
       "  <thead>\n",
       "    <tr style=\"text-align: right;\">\n",
       "      <th></th>\n",
       "      <th>year</th>\n",
       "      <th>month</th>\n",
       "      <th>day</th>\n",
       "      <th>dep_time</th>\n",
       "      <th>sched_dep_time</th>\n",
       "      <th>dep_delay</th>\n",
       "      <th>arr_time</th>\n",
       "      <th>sched_arr_time</th>\n",
       "      <th>arr_delay</th>\n",
       "      <th>carrier</th>\n",
       "      <th>flight</th>\n",
       "      <th>tailnum</th>\n",
       "      <th>origin</th>\n",
       "      <th>dest</th>\n",
       "      <th>air_time</th>\n",
       "      <th>distance</th>\n",
       "      <th>hour</th>\n",
       "      <th>minute</th>\n",
       "      <th>time_hour</th>\n",
       "    </tr>\n",
       "  </thead>\n",
       "  <tbody>\n",
       "    <tr>\n",
       "      <th>0</th>\n",
       "      <td>2013</td>\n",
       "      <td>1</td>\n",
       "      <td>1</td>\n",
       "      <td>517.0</td>\n",
       "      <td>515</td>\n",
       "      <td>2.0</td>\n",
       "      <td>830.0</td>\n",
       "      <td>819</td>\n",
       "      <td>11.0</td>\n",
       "      <td>UA</td>\n",
       "      <td>1545</td>\n",
       "      <td>N14228</td>\n",
       "      <td>EWR</td>\n",
       "      <td>IAH</td>\n",
       "      <td>227.0</td>\n",
       "      <td>1400</td>\n",
       "      <td>5</td>\n",
       "      <td>15</td>\n",
       "      <td>1/1/2013 5:00</td>\n",
       "    </tr>\n",
       "    <tr>\n",
       "      <th>1</th>\n",
       "      <td>2013</td>\n",
       "      <td>1</td>\n",
       "      <td>1</td>\n",
       "      <td>533.0</td>\n",
       "      <td>529</td>\n",
       "      <td>4.0</td>\n",
       "      <td>850.0</td>\n",
       "      <td>830</td>\n",
       "      <td>20.0</td>\n",
       "      <td>UA</td>\n",
       "      <td>1714</td>\n",
       "      <td>N24211</td>\n",
       "      <td>LGA</td>\n",
       "      <td>IAH</td>\n",
       "      <td>227.0</td>\n",
       "      <td>1416</td>\n",
       "      <td>5</td>\n",
       "      <td>29</td>\n",
       "      <td>1/1/2013 5:00</td>\n",
       "    </tr>\n",
       "    <tr>\n",
       "      <th>2</th>\n",
       "      <td>2013</td>\n",
       "      <td>1</td>\n",
       "      <td>1</td>\n",
       "      <td>542.0</td>\n",
       "      <td>540</td>\n",
       "      <td>2.0</td>\n",
       "      <td>923.0</td>\n",
       "      <td>850</td>\n",
       "      <td>33.0</td>\n",
       "      <td>AA</td>\n",
       "      <td>1141</td>\n",
       "      <td>N619AA</td>\n",
       "      <td>JFK</td>\n",
       "      <td>MIA</td>\n",
       "      <td>160.0</td>\n",
       "      <td>1089</td>\n",
       "      <td>5</td>\n",
       "      <td>40</td>\n",
       "      <td>1/1/2013 5:00</td>\n",
       "    </tr>\n",
       "    <tr>\n",
       "      <th>3</th>\n",
       "      <td>2013</td>\n",
       "      <td>1</td>\n",
       "      <td>1</td>\n",
       "      <td>544.0</td>\n",
       "      <td>545</td>\n",
       "      <td>-1.0</td>\n",
       "      <td>1004.0</td>\n",
       "      <td>1022</td>\n",
       "      <td>-18.0</td>\n",
       "      <td>B6</td>\n",
       "      <td>725</td>\n",
       "      <td>N804JB</td>\n",
       "      <td>JFK</td>\n",
       "      <td>BQN</td>\n",
       "      <td>183.0</td>\n",
       "      <td>1576</td>\n",
       "      <td>5</td>\n",
       "      <td>45</td>\n",
       "      <td>1/1/2013 5:00</td>\n",
       "    </tr>\n",
       "    <tr>\n",
       "      <th>4</th>\n",
       "      <td>2013</td>\n",
       "      <td>1</td>\n",
       "      <td>1</td>\n",
       "      <td>554.0</td>\n",
       "      <td>600</td>\n",
       "      <td>-6.0</td>\n",
       "      <td>812.0</td>\n",
       "      <td>837</td>\n",
       "      <td>-25.0</td>\n",
       "      <td>DL</td>\n",
       "      <td>461</td>\n",
       "      <td>N668DN</td>\n",
       "      <td>LGA</td>\n",
       "      <td>ATL</td>\n",
       "      <td>116.0</td>\n",
       "      <td>762</td>\n",
       "      <td>6</td>\n",
       "      <td>0</td>\n",
       "      <td>1/1/2013 6:00</td>\n",
       "    </tr>\n",
       "  </tbody>\n",
       "</table>\n",
       "</div>"
      ],
      "text/plain": [
       "   year  month  day  dep_time  sched_dep_time  dep_delay  arr_time  \\\n",
       "0  2013      1    1     517.0             515        2.0     830.0   \n",
       "1  2013      1    1     533.0             529        4.0     850.0   \n",
       "2  2013      1    1     542.0             540        2.0     923.0   \n",
       "3  2013      1    1     544.0             545       -1.0    1004.0   \n",
       "4  2013      1    1     554.0             600       -6.0     812.0   \n",
       "\n",
       "   sched_arr_time  arr_delay carrier  flight tailnum origin dest  air_time  \\\n",
       "0             819       11.0      UA    1545  N14228    EWR  IAH     227.0   \n",
       "1             830       20.0      UA    1714  N24211    LGA  IAH     227.0   \n",
       "2             850       33.0      AA    1141  N619AA    JFK  MIA     160.0   \n",
       "3            1022      -18.0      B6     725  N804JB    JFK  BQN     183.0   \n",
       "4             837      -25.0      DL     461  N668DN    LGA  ATL     116.0   \n",
       "\n",
       "   distance  hour  minute      time_hour  \n",
       "0      1400     5      15  1/1/2013 5:00  \n",
       "1      1416     5      29  1/1/2013 5:00  \n",
       "2      1089     5      40  1/1/2013 5:00  \n",
       "3      1576     5      45  1/1/2013 5:00  \n",
       "4       762     6       0  1/1/2013 6:00  "
      ]
     },
     "execution_count": 3,
     "metadata": {},
     "output_type": "execute_result"
    }
   ],
   "source": [
    "df_flight = pd.read_csv('flight_data.csv')\n",
    "df_flight.head()"
   ]
  },
  {
   "cell_type": "markdown",
   "metadata": {},
   "source": [
    "The data frame containing `nycflights` is a dataframe, where each row represents an observation and each column represents a variable. In Python, this structure is called a pandas DataFrame, a term that will be used throughout the labs. \n",
    "\n",
    "You can check the dimensions of the dataframe by using the following functions: "
   ]
  },
  {
   "cell_type": "code",
   "execution_count": 3,
   "metadata": {},
   "outputs": [
    {
     "name": "stdout",
     "output_type": "stream",
     "text": [
      "Shape = (336776, 19)\n",
      "Size = 6398744\n"
     ]
    }
   ],
   "source": [
    "print(\"Shape = {}\".format(df_flight.shape))\n",
    "print(\"Size = {}\".format(df_flight.size))"
   ]
  },
  {
   "cell_type": "code",
   "execution_count": 4,
   "metadata": {},
   "outputs": [
    {
     "name": "stdout",
     "output_type": "stream",
     "text": [
      "The data frame contains 336776 flights and 19 variables to describe them\n"
     ]
    }
   ],
   "source": [
    "# And complete this cell: \n",
    "print(f\"The data frame contains {df_flight.shape[0]} flights and {df_flight.shape[1]} variables to describe them\")"
   ]
  },
  {
   "cell_type": "markdown",
   "metadata": {},
   "source": [
    "You can also view the names of the variables. To do so, complete the following cell: "
   ]
  },
  {
   "cell_type": "code",
   "execution_count": 5,
   "metadata": {},
   "outputs": [
    {
     "name": "stdout",
     "output_type": "stream",
     "text": [
      "Variable names = Index(['year', 'month', 'day', 'dep_time', 'sched_dep_time', 'dep_delay',\n",
      "       'arr_time', 'sched_arr_time', 'arr_delay', 'carrier', 'flight',\n",
      "       'tailnum', 'origin', 'dest', 'air_time', 'distance', 'hour', 'minute',\n",
      "       'time_hour'],\n",
      "      dtype='object')\n"
     ]
    }
   ],
   "source": [
    "print(\"Variable names = {}\".format(df_flight.columns))"
   ]
  },
  {
   "cell_type": "markdown",
   "metadata": {},
   "source": [
    "The **codebook** (description of the variables) is included below:\n",
    "- `year`, `month`, `day`: Date of departure.\n",
    "- `dep_time`, `arr_time`: Departure and arrival times, local timezone.\n",
    "- `sched_dep_time`, `sched_arr_time`: Schedules departure and arrival times, local timezone.\n",
    "- `dep_delay`, `arr_delay`: Departure and arrival delays, in minutes. Negative times represent early departures/arrivals.\n",
    "- `carrier`: Two letter carrier abbreviation.\n",
    "    + `9E`:           Endeavor Air Inc.\n",
    "    + `AA`:      American Airlines Inc.\n",
    "    + `AS`:        Alaska Airlines Inc.\n",
    "    + `B6`:             JetBlue Airways\n",
    "    + `DL`:        Delta Air Lines Inc.\n",
    "    + `EV`:    ExpressJet Airlines Inc.\n",
    "    + `F9`:      Frontier Airlines Inc.\n",
    "    + `FL`: AirTran Airways Corporation\n",
    "    + `HA`:      Hawaiian Airlines Inc.\n",
    "    + `MQ`:                   Envoy Air\n",
    "    + `OO`:       SkyWest Airlines Inc.\n",
    "    + `UA`:       United Air Lines Inc.\n",
    "    + `US`:             US Airways Inc.\n",
    "    + `VX`:              Virgin America\n",
    "    + `WN`:      Southwest Airlines Co.\n",
    "    + `YV`:          Mesa Airlines Inc.\n",
    "- `tailnum`: Plane tail number\n",
    "- `flight`: Flight number\n",
    "- `origin`, `dest`: Airport codes for origin and destination. (Google can help\n",
    "you with what code stands for which airport.)\n",
    "- `air_time`: Amount of time spent in the air, in minutes.\n",
    "- `distance`: Distance flown, in miles.\n",
    "- `hour`, `minute`: Time of departure broken in to hour and minutes.\n",
    "- `time_hour`: combination of the date and hour.  "
   ]
  },
  {
   "cell_type": "markdown",
   "metadata": {},
   "source": [
    "Use the functions `.describe()` and `.info()` to get a a summary of the values in the dataset as well as to check the types and non-null count of each column."
   ]
  },
  {
   "cell_type": "code",
   "execution_count": 6,
   "metadata": {},
   "outputs": [
    {
     "data": {
      "text/html": [
       "<div>\n",
       "<style scoped>\n",
       "    .dataframe tbody tr th:only-of-type {\n",
       "        vertical-align: middle;\n",
       "    }\n",
       "\n",
       "    .dataframe tbody tr th {\n",
       "        vertical-align: top;\n",
       "    }\n",
       "\n",
       "    .dataframe thead th {\n",
       "        text-align: right;\n",
       "    }\n",
       "</style>\n",
       "<table border=\"1\" class=\"dataframe\">\n",
       "  <thead>\n",
       "    <tr style=\"text-align: right;\">\n",
       "      <th></th>\n",
       "      <th>year</th>\n",
       "      <th>month</th>\n",
       "      <th>day</th>\n",
       "      <th>dep_time</th>\n",
       "      <th>sched_dep_time</th>\n",
       "      <th>dep_delay</th>\n",
       "      <th>arr_time</th>\n",
       "      <th>sched_arr_time</th>\n",
       "      <th>arr_delay</th>\n",
       "      <th>flight</th>\n",
       "      <th>air_time</th>\n",
       "      <th>distance</th>\n",
       "      <th>hour</th>\n",
       "      <th>minute</th>\n",
       "    </tr>\n",
       "  </thead>\n",
       "  <tbody>\n",
       "    <tr>\n",
       "      <th>count</th>\n",
       "      <td>336776.0</td>\n",
       "      <td>336776.000000</td>\n",
       "      <td>336776.000000</td>\n",
       "      <td>328521.000000</td>\n",
       "      <td>336776.000000</td>\n",
       "      <td>328521.000000</td>\n",
       "      <td>328063.000000</td>\n",
       "      <td>336776.000000</td>\n",
       "      <td>327346.000000</td>\n",
       "      <td>336776.000000</td>\n",
       "      <td>327346.000000</td>\n",
       "      <td>336776.000000</td>\n",
       "      <td>336776.000000</td>\n",
       "      <td>336776.000000</td>\n",
       "    </tr>\n",
       "    <tr>\n",
       "      <th>mean</th>\n",
       "      <td>2013.0</td>\n",
       "      <td>6.548510</td>\n",
       "      <td>15.710787</td>\n",
       "      <td>1349.109947</td>\n",
       "      <td>1344.254840</td>\n",
       "      <td>12.639070</td>\n",
       "      <td>1502.054999</td>\n",
       "      <td>1536.380220</td>\n",
       "      <td>6.895377</td>\n",
       "      <td>1971.923620</td>\n",
       "      <td>150.686460</td>\n",
       "      <td>1039.912604</td>\n",
       "      <td>13.180247</td>\n",
       "      <td>26.230100</td>\n",
       "    </tr>\n",
       "    <tr>\n",
       "      <th>std</th>\n",
       "      <td>0.0</td>\n",
       "      <td>3.414457</td>\n",
       "      <td>8.768607</td>\n",
       "      <td>488.281791</td>\n",
       "      <td>467.335756</td>\n",
       "      <td>40.210061</td>\n",
       "      <td>533.264132</td>\n",
       "      <td>497.457142</td>\n",
       "      <td>44.633292</td>\n",
       "      <td>1632.471938</td>\n",
       "      <td>93.688305</td>\n",
       "      <td>733.233033</td>\n",
       "      <td>4.661316</td>\n",
       "      <td>19.300846</td>\n",
       "    </tr>\n",
       "    <tr>\n",
       "      <th>min</th>\n",
       "      <td>2013.0</td>\n",
       "      <td>1.000000</td>\n",
       "      <td>1.000000</td>\n",
       "      <td>1.000000</td>\n",
       "      <td>106.000000</td>\n",
       "      <td>-43.000000</td>\n",
       "      <td>1.000000</td>\n",
       "      <td>1.000000</td>\n",
       "      <td>-86.000000</td>\n",
       "      <td>1.000000</td>\n",
       "      <td>20.000000</td>\n",
       "      <td>17.000000</td>\n",
       "      <td>1.000000</td>\n",
       "      <td>0.000000</td>\n",
       "    </tr>\n",
       "    <tr>\n",
       "      <th>25%</th>\n",
       "      <td>2013.0</td>\n",
       "      <td>4.000000</td>\n",
       "      <td>8.000000</td>\n",
       "      <td>907.000000</td>\n",
       "      <td>906.000000</td>\n",
       "      <td>-5.000000</td>\n",
       "      <td>1104.000000</td>\n",
       "      <td>1124.000000</td>\n",
       "      <td>-17.000000</td>\n",
       "      <td>553.000000</td>\n",
       "      <td>82.000000</td>\n",
       "      <td>502.000000</td>\n",
       "      <td>9.000000</td>\n",
       "      <td>8.000000</td>\n",
       "    </tr>\n",
       "    <tr>\n",
       "      <th>50%</th>\n",
       "      <td>2013.0</td>\n",
       "      <td>7.000000</td>\n",
       "      <td>16.000000</td>\n",
       "      <td>1401.000000</td>\n",
       "      <td>1359.000000</td>\n",
       "      <td>-2.000000</td>\n",
       "      <td>1535.000000</td>\n",
       "      <td>1556.000000</td>\n",
       "      <td>-5.000000</td>\n",
       "      <td>1496.000000</td>\n",
       "      <td>129.000000</td>\n",
       "      <td>872.000000</td>\n",
       "      <td>13.000000</td>\n",
       "      <td>29.000000</td>\n",
       "    </tr>\n",
       "    <tr>\n",
       "      <th>75%</th>\n",
       "      <td>2013.0</td>\n",
       "      <td>10.000000</td>\n",
       "      <td>23.000000</td>\n",
       "      <td>1744.000000</td>\n",
       "      <td>1729.000000</td>\n",
       "      <td>11.000000</td>\n",
       "      <td>1940.000000</td>\n",
       "      <td>1945.000000</td>\n",
       "      <td>14.000000</td>\n",
       "      <td>3465.000000</td>\n",
       "      <td>192.000000</td>\n",
       "      <td>1389.000000</td>\n",
       "      <td>17.000000</td>\n",
       "      <td>44.000000</td>\n",
       "    </tr>\n",
       "    <tr>\n",
       "      <th>max</th>\n",
       "      <td>2013.0</td>\n",
       "      <td>12.000000</td>\n",
       "      <td>31.000000</td>\n",
       "      <td>2400.000000</td>\n",
       "      <td>2359.000000</td>\n",
       "      <td>1301.000000</td>\n",
       "      <td>2400.000000</td>\n",
       "      <td>2359.000000</td>\n",
       "      <td>1272.000000</td>\n",
       "      <td>8500.000000</td>\n",
       "      <td>695.000000</td>\n",
       "      <td>4983.000000</td>\n",
       "      <td>23.000000</td>\n",
       "      <td>59.000000</td>\n",
       "    </tr>\n",
       "  </tbody>\n",
       "</table>\n",
       "</div>"
      ],
      "text/plain": [
       "           year          month            day       dep_time  sched_dep_time  \\\n",
       "count  336776.0  336776.000000  336776.000000  328521.000000   336776.000000   \n",
       "mean     2013.0       6.548510      15.710787    1349.109947     1344.254840   \n",
       "std         0.0       3.414457       8.768607     488.281791      467.335756   \n",
       "min      2013.0       1.000000       1.000000       1.000000      106.000000   \n",
       "25%      2013.0       4.000000       8.000000     907.000000      906.000000   \n",
       "50%      2013.0       7.000000      16.000000    1401.000000     1359.000000   \n",
       "75%      2013.0      10.000000      23.000000    1744.000000     1729.000000   \n",
       "max      2013.0      12.000000      31.000000    2400.000000     2359.000000   \n",
       "\n",
       "           dep_delay       arr_time  sched_arr_time      arr_delay  \\\n",
       "count  328521.000000  328063.000000   336776.000000  327346.000000   \n",
       "mean       12.639070    1502.054999     1536.380220       6.895377   \n",
       "std        40.210061     533.264132      497.457142      44.633292   \n",
       "min       -43.000000       1.000000        1.000000     -86.000000   \n",
       "25%        -5.000000    1104.000000     1124.000000     -17.000000   \n",
       "50%        -2.000000    1535.000000     1556.000000      -5.000000   \n",
       "75%        11.000000    1940.000000     1945.000000      14.000000   \n",
       "max      1301.000000    2400.000000     2359.000000    1272.000000   \n",
       "\n",
       "              flight       air_time       distance           hour  \\\n",
       "count  336776.000000  327346.000000  336776.000000  336776.000000   \n",
       "mean     1971.923620     150.686460    1039.912604      13.180247   \n",
       "std      1632.471938      93.688305     733.233033       4.661316   \n",
       "min         1.000000      20.000000      17.000000       1.000000   \n",
       "25%       553.000000      82.000000     502.000000       9.000000   \n",
       "50%      1496.000000     129.000000     872.000000      13.000000   \n",
       "75%      3465.000000     192.000000    1389.000000      17.000000   \n",
       "max      8500.000000     695.000000    4983.000000      23.000000   \n",
       "\n",
       "              minute  \n",
       "count  336776.000000  \n",
       "mean       26.230100  \n",
       "std        19.300846  \n",
       "min         0.000000  \n",
       "25%         8.000000  \n",
       "50%        29.000000  \n",
       "75%        44.000000  \n",
       "max        59.000000  "
      ]
     },
     "execution_count": 6,
     "metadata": {},
     "output_type": "execute_result"
    }
   ],
   "source": [
    "df_flight.describe()"
   ]
  },
  {
   "cell_type": "code",
   "execution_count": 7,
   "metadata": {},
   "outputs": [
    {
     "name": "stdout",
     "output_type": "stream",
     "text": [
      "<class 'pandas.core.frame.DataFrame'>\n",
      "RangeIndex: 336776 entries, 0 to 336775\n",
      "Data columns (total 19 columns):\n",
      " #   Column          Non-Null Count   Dtype  \n",
      "---  ------          --------------   -----  \n",
      " 0   year            336776 non-null  int64  \n",
      " 1   month           336776 non-null  int64  \n",
      " 2   day             336776 non-null  int64  \n",
      " 3   dep_time        328521 non-null  float64\n",
      " 4   sched_dep_time  336776 non-null  int64  \n",
      " 5   dep_delay       328521 non-null  float64\n",
      " 6   arr_time        328063 non-null  float64\n",
      " 7   sched_arr_time  336776 non-null  int64  \n",
      " 8   arr_delay       327346 non-null  float64\n",
      " 9   carrier         336776 non-null  object \n",
      " 10  flight          336776 non-null  int64  \n",
      " 11  tailnum         334264 non-null  object \n",
      " 12  origin          336776 non-null  object \n",
      " 13  dest            336776 non-null  object \n",
      " 14  air_time        327346 non-null  float64\n",
      " 15  distance        336776 non-null  int64  \n",
      " 16  hour            336776 non-null  int64  \n",
      " 17  minute          336776 non-null  int64  \n",
      " 18  time_hour       336776 non-null  object \n",
      "dtypes: float64(5), int64(9), object(5)\n",
      "memory usage: 48.8+ MB\n"
     ]
    }
   ],
   "source": [
    "df_flight.info()"
   ]
  },
  {
   "cell_type": "code",
   "execution_count": 37,
   "metadata": {},
   "outputs": [],
   "source": [
    "df_flight = df_flight.dropna()"
   ]
  },
  {
   "cell_type": "markdown",
   "metadata": {},
   "source": [
    "As you can see, there is a variable whose data type is not well defined. Convert it to the right type and check it by using the function `dtypes`. "
   ]
  },
  {
   "cell_type": "code",
   "execution_count": 9,
   "metadata": {},
   "outputs": [
    {
     "name": "stderr",
     "output_type": "stream",
     "text": [
      "C:\\Users\\Elena\\AppData\\Local\\Temp\\ipykernel_20924\\1323447379.py:1: UserWarning: Parsing dates in %d-%m-%Y %H:%M format when dayfirst=False (the default) was specified. Pass `dayfirst=True` or specify a format to silence this warning.\n",
      "  df_flight['time_hour'] = df_flight['time_hour'].apply(pd.to_datetime)\n"
     ]
    },
    {
     "data": {
      "text/plain": [
       "year                       int64\n",
       "month                      int64\n",
       "day                        int64\n",
       "dep_time                 float64\n",
       "sched_dep_time             int64\n",
       "dep_delay                float64\n",
       "arr_time                 float64\n",
       "sched_arr_time             int64\n",
       "arr_delay                float64\n",
       "carrier                   object\n",
       "flight                     int64\n",
       "tailnum                   object\n",
       "origin                    object\n",
       "dest                      object\n",
       "air_time                 float64\n",
       "distance                   int64\n",
       "hour                       int64\n",
       "minute                     int64\n",
       "time_hour         datetime64[ns]\n",
       "dtype: object"
      ]
     },
     "execution_count": 9,
     "metadata": {},
     "output_type": "execute_result"
    }
   ],
   "source": [
    "df_flight['time_hour'] = df_flight['time_hour'].apply(pd.to_datetime)\n",
    "df_flight.dtypes"
   ]
  },
  {
   "cell_type": "markdown",
   "metadata": {},
   "source": [
    "The `nycflights` data frame is a massive trove of information. Let's think about some questions we might want to answer with these data:\n",
    "\n",
    "- We might want to find out how delayed flights headed to a particular destination tend to be. \n",
    "- We might want to evaluate how departure delays vary over months. \n",
    "- Or we might want to determine which of the three major NYC airports has a better on time percentage for departing flights."
   ]
  },
  {
   "cell_type": "markdown",
   "metadata": {},
   "source": [
    "Before moving on, let's see some of the many useful functions for basic manipulation that the `pandas` library has, including: \n",
    "1. Data Selection & Filtering:\n",
    "    - df.loc[]: Selects rows and columns by label.\n",
    "    - df.iloc[]: Selects rows and columns by index position.\n",
    "    - df.query(): Allows for SQL-like queries.\n",
    "    - df.isnull() / df.notnull(): Checks for missing values.\n",
    "    - df.where(): Conditional replacement of values.\n",
    "2. Sorting:\n",
    "    - df.sort_values(): Sorts data by column(s) (as seen in arrange()).\n",
    "    - df.sort_index(): Sorts by row index.\n",
    "3. Handling Duplicates:\n",
    "    - df.duplicated(): Returns a boolean Series indicating duplicate rows.\n",
    "    - df.drop_duplicates(): Removes duplicate rows.\n",
    "4. Column/Row Operations:\n",
    "    - df.apply(): Apply a function along an axis (rows or columns).\n",
    "    - df.applymap(): Apply a function elementwise (for DataFrames).\n",
    "    - df.map(): Apply a function elementwise to a Series.\n",
    "    - df.assign(): Adds new columns to a DataFrame.\n",
    "    - df.insert(): Adds a new column at a specific position.\n",
    "5. Aggregation:\n",
    "    - df.groupby(): Groups the data by one or more columns for aggregation.\n",
    "    - df.aggregate(): Applies multiple aggregation functions to a DataFrame or Series.\n",
    "    - df.pivot_table(): Creates a pivot table.\n",
    "6. Joining & Merging:\n",
    "    - df.merge(): Merges DataFrames similar to SQL joins.\n",
    "    - df.concat(): Concatenates DataFrames along rows or columns.\n",
    "    - df.join(): Joins DataFrames based on index or columns.\n",
    "7. Reshaping & Pivoting:\n",
    "    - df.melt(): Unpivots columns to rows (wide to long format).\n",
    "    - df.pivot(): Reshapes data from long to wide format.\n",
    "    - df.stack(): Stacks columns into a Series.\n",
    "    - df.unstack(): Unstacks a MultiIndex Series or DataFrame.\n",
    "\n",
    "And many more...\n",
    "\n",
    "We will use some of these functions in this lab, and learn about others in futures labs."
   ]
  },
  {
   "cell_type": "markdown",
   "metadata": {},
   "source": [
    "## 3. Analysing departure delays and filtering <a id=\"delays\"></a>"
   ]
  },
  {
   "cell_type": "markdown",
   "metadata": {},
   "source": [
    "### 3.1 Departure delays "
   ]
  },
  {
   "cell_type": "markdown",
   "metadata": {},
   "source": [
    "a) Histograms are generally a very good way to see the shape of a single distribution, but that shape can change depending on how the data is split between the different bins. You can easily define the bin width you want to use. Therefore, create a subplot with two histograms of the departure delay, one of them with 15 bins and the other one with 150. "
   ]
  },
  {
   "cell_type": "code",
   "execution_count": 10,
   "metadata": {},
   "outputs": [
    {
     "data": {
      "text/plain": [
       "Text(0, 0.5, 'Frequency')"
      ]
     },
     "execution_count": 10,
     "metadata": {},
     "output_type": "execute_result"
    },
    {
     "data": {
      "image/png": "[encoded data removed]",
      "text/plain": [
       "<Figure size 1000x500 with 2 Axes>"
      ]
     },
     "metadata": {},
     "output_type": "display_data"
    }
   ],
   "source": [
    "fig, axs = plt.subplots(1, 2, tight_layout=True, figsize=(10, 5))\n",
    "\n",
    "axs[0].hist(df_flight['dep_delay'], bins=15)\n",
    "axs[0].set_title('Departure delay with 15 bins')\n",
    "axs[0].set_xlabel('Departure Delay (min)') \n",
    "axs[0].set_ylabel('Frequency') \n",
    "\n",
    "axs[1].hist(df_flight['dep_delay'], bins=150) \n",
    "axs[1].set_title('Departure delay with 150 bins')\n",
    "axs[1].set_xlabel('Departure Delay (min)') \n",
    "axs[1].set_ylabel('Frequency')"
   ]
  },
  {
   "cell_type": "markdown",
   "metadata": {},
   "source": [
    "b) Do you know the **Sturges Rule** for determining the number of bins? Calculate the value for this dataset and explain whether you think it would be a good number to use in this case, or, on the contrary, why you think it wouldn't work for this dataset."
   ]
  },
  {
   "cell_type": "code",
   "execution_count": 11,
   "metadata": {},
   "outputs": [
    {
     "name": "stdout",
     "output_type": "stream",
     "text": [
      "Sturges' number of bins: 19\n"
     ]
    }
   ],
   "source": [
    "n = df_flight['dep_delay'].size\n",
    "Sturges_bins = int(1 + np.log2(n))\n",
    "\n",
    "print(f\"Sturges' number of bins: {Sturges_bins}\")"
   ]
  },
  {
   "cell_type": "markdown",
   "metadata": {},
   "source": [
    "**Explanation:** Given the big amount of different departure delays 19 bins would not quite be able to capture all the information. As can be seen in the previous histograms with more bins the distribution is clearer to picture. "
   ]
  },
  {
   "cell_type": "markdown",
   "metadata": {},
   "source": [
    "### 3.2 Flights with destination RDU"
   ]
  },
  {
   "cell_type": "markdown",
   "metadata": {},
   "source": [
    "a) We want to focus on departure delays of flights headed to RDU only. To do so, filter the original dataset and show its first three rows."
   ]
  },
  {
   "cell_type": "code",
   "execution_count": 12,
   "metadata": {},
   "outputs": [
    {
     "data": {
      "text/html": [
       "<div>\n",
       "<style scoped>\n",
       "    .dataframe tbody tr th:only-of-type {\n",
       "        vertical-align: middle;\n",
       "    }\n",
       "\n",
       "    .dataframe tbody tr th {\n",
       "        vertical-align: top;\n",
       "    }\n",
       "\n",
       "    .dataframe thead th {\n",
       "        text-align: right;\n",
       "    }\n",
       "</style>\n",
       "<table border=\"1\" class=\"dataframe\">\n",
       "  <thead>\n",
       "    <tr style=\"text-align: right;\">\n",
       "      <th></th>\n",
       "      <th>year</th>\n",
       "      <th>month</th>\n",
       "      <th>day</th>\n",
       "      <th>dep_time</th>\n",
       "      <th>sched_dep_time</th>\n",
       "      <th>dep_delay</th>\n",
       "      <th>arr_time</th>\n",
       "      <th>sched_arr_time</th>\n",
       "      <th>arr_delay</th>\n",
       "      <th>carrier</th>\n",
       "      <th>flight</th>\n",
       "      <th>tailnum</th>\n",
       "      <th>origin</th>\n",
       "      <th>dest</th>\n",
       "      <th>air_time</th>\n",
       "      <th>distance</th>\n",
       "      <th>hour</th>\n",
       "      <th>minute</th>\n",
       "      <th>time_hour</th>\n",
       "    </tr>\n",
       "  </thead>\n",
       "  <tbody>\n",
       "    <tr>\n",
       "      <th>106</th>\n",
       "      <td>2013</td>\n",
       "      <td>1</td>\n",
       "      <td>1</td>\n",
       "      <td>800.0</td>\n",
       "      <td>810</td>\n",
       "      <td>-10.0</td>\n",
       "      <td>949.0</td>\n",
       "      <td>955</td>\n",
       "      <td>-6.0</td>\n",
       "      <td>MQ</td>\n",
       "      <td>4406</td>\n",
       "      <td>N828MQ</td>\n",
       "      <td>JFK</td>\n",
       "      <td>RDU</td>\n",
       "      <td>80.0</td>\n",
       "      <td>427</td>\n",
       "      <td>8</td>\n",
       "      <td>10</td>\n",
       "      <td>2013-01-01 08:00:00</td>\n",
       "    </tr>\n",
       "    <tr>\n",
       "      <th>144</th>\n",
       "      <td>2013</td>\n",
       "      <td>1</td>\n",
       "      <td>1</td>\n",
       "      <td>832.0</td>\n",
       "      <td>840</td>\n",
       "      <td>-8.0</td>\n",
       "      <td>1006.0</td>\n",
       "      <td>1030</td>\n",
       "      <td>-24.0</td>\n",
       "      <td>MQ</td>\n",
       "      <td>4521</td>\n",
       "      <td>N725MQ</td>\n",
       "      <td>LGA</td>\n",
       "      <td>RDU</td>\n",
       "      <td>77.0</td>\n",
       "      <td>431</td>\n",
       "      <td>8</td>\n",
       "      <td>40</td>\n",
       "      <td>2013-01-01 08:00:00</td>\n",
       "    </tr>\n",
       "    <tr>\n",
       "      <th>153</th>\n",
       "      <td>2013</td>\n",
       "      <td>1</td>\n",
       "      <td>1</td>\n",
       "      <td>851.0</td>\n",
       "      <td>851</td>\n",
       "      <td>0.0</td>\n",
       "      <td>1032.0</td>\n",
       "      <td>1036</td>\n",
       "      <td>-4.0</td>\n",
       "      <td>EV</td>\n",
       "      <td>4548</td>\n",
       "      <td>N19966</td>\n",
       "      <td>EWR</td>\n",
       "      <td>RDU</td>\n",
       "      <td>75.0</td>\n",
       "      <td>416</td>\n",
       "      <td>8</td>\n",
       "      <td>51</td>\n",
       "      <td>2013-01-01 08:00:00</td>\n",
       "    </tr>\n",
       "  </tbody>\n",
       "</table>\n",
       "</div>"
      ],
      "text/plain": [
       "     year  month  day  dep_time  sched_dep_time  dep_delay  arr_time  \\\n",
       "106  2013      1    1     800.0             810      -10.0     949.0   \n",
       "144  2013      1    1     832.0             840       -8.0    1006.0   \n",
       "153  2013      1    1     851.0             851        0.0    1032.0   \n",
       "\n",
       "     sched_arr_time  arr_delay carrier  flight tailnum origin dest  air_time  \\\n",
       "106             955       -6.0      MQ    4406  N828MQ    JFK  RDU      80.0   \n",
       "144            1030      -24.0      MQ    4521  N725MQ    LGA  RDU      77.0   \n",
       "153            1036       -4.0      EV    4548  N19966    EWR  RDU      75.0   \n",
       "\n",
       "     distance  hour  minute           time_hour  \n",
       "106       427     8      10 2013-01-01 08:00:00  \n",
       "144       431     8      40 2013-01-01 08:00:00  \n",
       "153       416     8      51 2013-01-01 08:00:00  "
      ]
     },
     "execution_count": 12,
     "metadata": {},
     "output_type": "execute_result"
    }
   ],
   "source": [
    "RDU_dep_delays = df_flight[df_flight['dest'] == \"RDU\"]\n",
    "RDU_dep_delays.head(3)"
   ]
  },
  {
   "cell_type": "markdown",
   "metadata": {},
   "source": [
    "**Logical operators:** Filtering for certain observations (e.g. flights from a particular airport) is often of interest in data frames where we might want to examine observations with certain characteristics separately from the rest of the data. To do so we use the `filter` function and a series of logical operators. The most commonly used logical operators for data analysis are as follows:\n",
    "- `==` means \"equal to\".\n",
    "- `!=` means \"not equal to\".\n",
    "- `>` or `<` means \"greater than\" or \"less than\".\n",
    "- `>=` or `<=` means \"greater than or equal to\" or \"less than or equal to\".\n",
    "\n",
    "Additionally, many conditions can be combined using:\n",
    "- `&` (and) to ensure all conditions are true.\n",
    "- `|` (or) to ensure at least one condition is true."
   ]
  },
  {
   "cell_type": "markdown",
   "metadata": {},
   "source": [
    "b) Plot an histogram of the departure delays."
   ]
  },
  {
   "cell_type": "code",
   "execution_count": 13,
   "metadata": {},
   "outputs": [
    {
     "data": {
      "text/plain": [
       "Text(0, 0.5, 'Frequency')"
      ]
     },
     "execution_count": 13,
     "metadata": {},
     "output_type": "execute_result"
    },
    {
     "data": {
      "image/png": "[encoded data removed]",
      "text/plain": [
       "<Figure size 640x480 with 1 Axes>"
      ]
     },
     "metadata": {},
     "output_type": "display_data"
    }
   ],
   "source": [
    "plt.hist(RDU_dep_delays['dep_delay'], bins=30)\n",
    "plt.title('Departure delay of RDU flights with 30 bins')\n",
    "plt.xlabel('Departure Delay (min)') \n",
    "plt.ylabel('Frequency')"
   ]
  },
  {
   "cell_type": "markdown",
   "metadata": {},
   "source": [
    "c) What percentage of the flights match the above condition? Round the value to two decimal places."
   ]
  },
  {
   "cell_type": "code",
   "execution_count": 14,
   "metadata": {},
   "outputs": [
    {
     "name": "stdout",
     "output_type": "stream",
     "text": [
      "% of flights with RDU destination: 2.37%\n"
     ]
    }
   ],
   "source": [
    "RDU_dest_percentage = RDU_dep_delays.shape[0]/df_flight.shape[0] * 100\n",
    "print(f\"% of flights with RDU destination: {round(RDU_dest_percentage,2)}%\")"
   ]
  },
  {
   "cell_type": "markdown",
   "metadata": {},
   "source": [
    "d) Answer the questions by obtaining the exact values using pandas functions:\n",
    "- What is the maximum delay of a flight headed to RDU in minutes?\n",
    "- Where did it depart from?"
   ]
  },
  {
   "cell_type": "code",
   "execution_count": 15,
   "metadata": {},
   "outputs": [
    {
     "name": "stdout",
     "output_type": "stream",
     "text": [
      "The maximum delay of a flight headed to RDU in minutes is: 430.0\n"
     ]
    }
   ],
   "source": [
    "RDU_max_delay = RDU_dep_delays.sort_values('arr_delay', ascending=False).iloc[0]\n",
    "print(f\"The maximum delay of a flight headed to RDU in minutes is: {RDU_max_delay['arr_delay']}\")"
   ]
  },
  {
   "cell_type": "code",
   "execution_count": 16,
   "metadata": {},
   "outputs": [
    {
     "name": "stdout",
     "output_type": "stream",
     "text": [
      "It departed from: JFK\n"
     ]
    }
   ],
   "source": [
    "print(f\"It departed from: {RDU_max_delay['origin']}\")"
   ]
  },
  {
   "cell_type": "markdown",
   "metadata": {},
   "source": [
    "e) Calculate the summary statistics (mean, median, maximum value, minimum value, standard deviation, and sample size) for the RDU flights' departure delays."
   ]
  },
  {
   "cell_type": "code",
   "execution_count": 17,
   "metadata": {},
   "outputs": [
    {
     "name": "stdout",
     "output_type": "stream",
     "text": [
      "Summary Statistics for RDU Flights' Departure Delays:mean        12.398842\n",
      "median      -2.000000\n",
      "max        420.000000\n",
      "min        -21.000000\n",
      "std         38.920590\n",
      "count     7770.000000\n",
      "Name: dep_delay, dtype: float64\n"
     ]
    }
   ],
   "source": [
    "delay_stats = RDU_dep_delays['dep_delay'].agg(['mean', 'median', 'max', 'min', 'std', 'count'])\n",
    "print(f\"Summary Statistics for RDU Flights' Departure Delays:{delay_stats}\")"
   ]
  },
  {
   "cell_type": "markdown",
   "metadata": {},
   "source": [
    "### 3.3. Flights headed to San Francisco in February"
   ]
  },
  {
   "cell_type": "markdown",
   "metadata": {},
   "source": [
    "a) Filter the flights with San Francisco as the destination and that were done in February."
   ]
  },
  {
   "cell_type": "code",
   "execution_count": 18,
   "metadata": {},
   "outputs": [
    {
     "data": {
      "text/html": [
       "<div>\n",
       "<style scoped>\n",
       "    .dataframe tbody tr th:only-of-type {\n",
       "        vertical-align: middle;\n",
       "    }\n",
       "\n",
       "    .dataframe tbody tr th {\n",
       "        vertical-align: top;\n",
       "    }\n",
       "\n",
       "    .dataframe thead th {\n",
       "        text-align: right;\n",
       "    }\n",
       "</style>\n",
       "<table border=\"1\" class=\"dataframe\">\n",
       "  <thead>\n",
       "    <tr style=\"text-align: right;\">\n",
       "      <th></th>\n",
       "      <th>year</th>\n",
       "      <th>month</th>\n",
       "      <th>day</th>\n",
       "      <th>dep_time</th>\n",
       "      <th>sched_dep_time</th>\n",
       "      <th>dep_delay</th>\n",
       "      <th>arr_time</th>\n",
       "      <th>sched_arr_time</th>\n",
       "      <th>arr_delay</th>\n",
       "      <th>carrier</th>\n",
       "      <th>flight</th>\n",
       "      <th>tailnum</th>\n",
       "      <th>origin</th>\n",
       "      <th>dest</th>\n",
       "      <th>air_time</th>\n",
       "      <th>distance</th>\n",
       "      <th>hour</th>\n",
       "      <th>minute</th>\n",
       "      <th>time_hour</th>\n",
       "    </tr>\n",
       "  </thead>\n",
       "  <tbody>\n",
       "    <tr>\n",
       "      <th>111316</th>\n",
       "      <td>2013</td>\n",
       "      <td>2</td>\n",
       "      <td>1</td>\n",
       "      <td>559.0</td>\n",
       "      <td>600</td>\n",
       "      <td>-1.0</td>\n",
       "      <td>923.0</td>\n",
       "      <td>925</td>\n",
       "      <td>-2.0</td>\n",
       "      <td>UA</td>\n",
       "      <td>303</td>\n",
       "      <td>N508UA</td>\n",
       "      <td>JFK</td>\n",
       "      <td>SFO</td>\n",
       "      <td>358.0</td>\n",
       "      <td>2586</td>\n",
       "      <td>6</td>\n",
       "      <td>0</td>\n",
       "      <td>2013-01-02 06:00:00</td>\n",
       "    </tr>\n",
       "    <tr>\n",
       "      <th>111348</th>\n",
       "      <td>2013</td>\n",
       "      <td>2</td>\n",
       "      <td>1</td>\n",
       "      <td>631.0</td>\n",
       "      <td>635</td>\n",
       "      <td>-4.0</td>\n",
       "      <td>946.0</td>\n",
       "      <td>1002</td>\n",
       "      <td>-16.0</td>\n",
       "      <td>UA</td>\n",
       "      <td>421</td>\n",
       "      <td>N818UA</td>\n",
       "      <td>EWR</td>\n",
       "      <td>SFO</td>\n",
       "      <td>352.0</td>\n",
       "      <td>2565</td>\n",
       "      <td>6</td>\n",
       "      <td>35</td>\n",
       "      <td>2013-01-02 06:00:00</td>\n",
       "    </tr>\n",
       "    <tr>\n",
       "      <th>111370</th>\n",
       "      <td>2013</td>\n",
       "      <td>2</td>\n",
       "      <td>1</td>\n",
       "      <td>653.0</td>\n",
       "      <td>700</td>\n",
       "      <td>-7.0</td>\n",
       "      <td>1023.0</td>\n",
       "      <td>1045</td>\n",
       "      <td>-22.0</td>\n",
       "      <td>DL</td>\n",
       "      <td>1865</td>\n",
       "      <td>N713TW</td>\n",
       "      <td>JFK</td>\n",
       "      <td>SFO</td>\n",
       "      <td>349.0</td>\n",
       "      <td>2586</td>\n",
       "      <td>7</td>\n",
       "      <td>0</td>\n",
       "      <td>2013-01-02 07:00:00</td>\n",
       "    </tr>\n",
       "  </tbody>\n",
       "</table>\n",
       "</div>"
      ],
      "text/plain": [
       "        year  month  day  dep_time  sched_dep_time  dep_delay  arr_time  \\\n",
       "111316  2013      2    1     559.0             600       -1.0     923.0   \n",
       "111348  2013      2    1     631.0             635       -4.0     946.0   \n",
       "111370  2013      2    1     653.0             700       -7.0    1023.0   \n",
       "\n",
       "        sched_arr_time  arr_delay carrier  flight tailnum origin dest  \\\n",
       "111316             925       -2.0      UA     303  N508UA    JFK  SFO   \n",
       "111348            1002      -16.0      UA     421  N818UA    EWR  SFO   \n",
       "111370            1045      -22.0      DL    1865  N713TW    JFK  SFO   \n",
       "\n",
       "        air_time  distance  hour  minute           time_hour  \n",
       "111316     358.0      2586     6       0 2013-01-02 06:00:00  \n",
       "111348     352.0      2565     6      35 2013-01-02 06:00:00  \n",
       "111370     349.0      2586     7       0 2013-01-02 07:00:00  "
      ]
     },
     "execution_count": 18,
     "metadata": {},
     "output_type": "execute_result"
    }
   ],
   "source": [
    "SFO_dest_Feb = df_flight[(df_flight['dest'] == \"SFO\") & (df_flight['month']==2)]\n",
    "SFO_dest_Feb.head(3)"
   ]
  },
  {
   "cell_type": "markdown",
   "metadata": {},
   "source": [
    "b) Focusing on the arrival delay, which of the following sentences is/are false? \n",
    "- The distribution is unimodal.\n",
    "- The distribution is right skewed.\n",
    "- No flight is delayed more than 3 hours and 20 minutes.\n",
    "- The distribution has several extreme values on the right side.\n",
    "- More than 50% of flights arrive on time or earlier than scheduled.\n",
    "\n",
    "Hint: you may need to get statistics and plot an histogram like in previous steps."
   ]
  },
  {
   "cell_type": "code",
   "execution_count": 19,
   "metadata": {},
   "outputs": [
    {
     "data": {
      "text/plain": [
       "Text(0, 0.5, 'Frequency')"
      ]
     },
     "execution_count": 19,
     "metadata": {},
     "output_type": "execute_result"
    },
    {
     "data": {
      "image/png": "[encoded data removed]",
      "text/plain": [
       "<Figure size 640x480 with 1 Axes>"
      ]
     },
     "metadata": {},
     "output_type": "display_data"
    }
   ],
   "source": [
    "plt.hist(SFO_dest_Feb['arr_delay'], bins=30)\n",
    "plt.title('Arrival delay of SFO flights with 30 bins')\n",
    "plt.xlabel('Arrival Delay (min)') \n",
    "plt.ylabel('Frequency')"
   ]
  },
  {
   "cell_type": "code",
   "execution_count": 20,
   "metadata": {},
   "outputs": [
    {
     "name": "stdout",
     "output_type": "stream",
     "text": [
      "Summary Statistics for SFO Flights' Arrival Delays:mean       -9.143045\n",
      "median    -13.000000\n",
      "max       205.000000\n",
      "min       -69.000000\n",
      "std        31.409202\n",
      "count     762.000000\n",
      "Name: arr_delay, dtype: float64\n"
     ]
    }
   ],
   "source": [
    "arr_stats = SFO_dest_Feb['arr_delay'].agg(['mean', 'median', 'max', 'min', 'std', 'count'])\n",
    "print(f\"Summary Statistics for SFO Flights' Arrival Delays:{arr_stats}\")"
   ]
  },
  {
   "cell_type": "markdown",
   "metadata": {},
   "source": [
    "**Answer:** \n",
    "- The distribution is unimodal. - True (Solo una punta en el histograma)\n",
    "- The distribution is right skewed. - True (Cola derecha en histograma)\n",
    "- No flight is delayed more than 3 hours and 20 minutes. - False (Máx son 3h 25')\n",
    "- The distribution has several extreme values on the right side. - True (Se observa en histograma)\n",
    "- More than 50% of flights arrive on time or earlier than scheduled. - True (Mediana está en -13)"
   ]
  },
  {
   "cell_type": "markdown",
   "metadata": {},
   "source": [
    "Another useful functionality is being able to quickly calculate summary statistics for various groups in your data frame. To do so, you can use the `groupby` function.\n",
    "\n",
    "c) Calculate the median and interquartile range for `arr_delay` of the dataframe filterede above with flights headed to SFO in February, grouped by carrier. \n",
    "\n",
    "Which carrier has the hights IQR of arrival delays?\n",
    "- American Airlines.\n",
    "- JetBlue Airways.\n",
    "- Virgin America.\n",
    "- Delta and United Airlines.\n",
    "- Frontier Airlines."
   ]
  },
  {
   "cell_type": "code",
   "execution_count": 21,
   "metadata": {},
   "outputs": [
    {
     "name": "stdout",
     "output_type": "stream",
     "text": [
      "Median Arrival Delay (grouped by carrier): carrier\n",
      "AA    -7.0\n",
      "B6   -11.0\n",
      "DL   -24.0\n",
      "UA    -9.0\n",
      "VX   -20.0\n",
      "Name: arr_delay, dtype: float64\n",
      "\n",
      "Interquartile Range of Arrival Delay (grouped by carrier):carrier\n",
      "AA    35.0\n",
      "B6    25.5\n",
      "DL    27.5\n",
      "UA    27.0\n",
      "VX    23.0\n",
      "Name: arr_delay, dtype: float64\n"
     ]
    }
   ],
   "source": [
    "print(f\"Median Arrival Delay (grouped by carrier): {SFO_dest_Feb.groupby('carrier')['arr_delay'].median()}\")\n",
    "iqr_arr_delay = SFO_dest_Feb.groupby('carrier')['arr_delay'].quantile(0.75) - SFO_dest_Feb.groupby('carrier')['arr_delay'].quantile(0.25)\n",
    "print(f\"\\nInterquartile Range of Arrival Delay (grouped by carrier):{iqr_arr_delay}\")"
   ]
  },
  {
   "cell_type": "markdown",
   "metadata": {},
   "source": [
    "**Answer:** American Airlines has the highest IQR of arrival delays (35)."
   ]
  },
  {
   "cell_type": "markdown",
   "metadata": {},
   "source": [
    "d) Draw a line plot showing the number of flights by day (using the previous dataframe: SFO in February). Do you see any pattern? Why do you think this is, and what is your reasoning for the peaks?\n",
    "\n",
    "Hint: you may need to keep using the `groupby` function."
   ]
  },
  {
   "cell_type": "code",
   "execution_count": 22,
   "metadata": {},
   "outputs": [
    {
     "data": {
      "image/png": "[encoded data removed]",
      "text/plain": [
       "<Figure size 1000x600 with 1 Axes>"
      ]
     },
     "metadata": {},
     "output_type": "display_data"
    }
   ],
   "source": [
    "plt.plot(SFO_dest_Feb.groupby('day').count()['year'])\n",
    "plt.title('Flights by Day with Destination SFO in February')\n",
    "plt.xlabel('Days') \n",
    "plt.ylabel('Frequency')\n",
    "plt.xticks(SFO_dest_Feb['day'].unique()) \n",
    "plt.gcf().set_size_inches(10, 6)"
   ]
  },
  {
   "cell_type": "markdown",
   "metadata": {},
   "source": [
    "**Answer:** Los picos se repiten de manera cíclica cada 7 días lo cual probablemente corresponde a findes de semana, donde la gente tiende a viajar más. "
   ]
  },
  {
   "cell_type": "markdown",
   "metadata": {},
   "source": [
    "## 4. Departure delays over months <a id=\"delaysmonths\"></a>"
   ]
  },
  {
   "cell_type": "markdown",
   "metadata": {},
   "source": [
    "a) Which month would you expect to have the highest average delay departing from an NYC airport?\n",
    "\n",
    "Let's think about how we would answer this question:\n",
    "- First, calculate monthly averages for departure delays. With the new language we are learning, we need to:\n",
    "    + `group_by` months, then\n",
    "    + `summarise` mean departure delays.\n",
    "- Then, we need to `arrange` these average delays in `desc`ending order."
   ]
  },
  {
   "cell_type": "code",
   "execution_count": 23,
   "metadata": {},
   "outputs": [
    {
     "data": {
      "text/plain": [
       "month\n",
       "7     23.479758\n",
       "6     20.321934\n",
       "12    14.650454\n",
       "8     12.889260\n",
       "5     12.495038\n",
       "4     12.214801\n",
       "2     11.736605\n",
       "3     10.670843\n",
       "1      8.557635\n",
       "9      6.553027\n",
       "11     4.643378\n",
       "10     4.577946\n",
       "Name: dep_delay, dtype: float64"
      ]
     },
     "execution_count": 23,
     "metadata": {},
     "output_type": "execute_result"
    }
   ],
   "source": [
    "NYC_orig_dep_delay = df_flight[(df_flight['origin'] == \"JFK\")]\n",
    "NYC_orig_dep_delay.groupby('month')['dep_delay'].mean().sort_values(ascending=False)\n"
   ]
  },
  {
   "cell_type": "markdown",
   "metadata": {},
   "source": [
    "b) Using the file called `months`, replace the column named 'month' in the previous result (which contains numbers) with its corresponding name. To read the dataset, you may use the `sep` argument to specify the file delimiter."
   ]
  },
  {
   "cell_type": "code",
   "execution_count": 24,
   "metadata": {},
   "outputs": [
    {
     "name": "stderr",
     "output_type": "stream",
     "text": [
      "C:\\Users\\Elena\\AppData\\Local\\Temp\\ipykernel_20924\\4277110266.py:3: SettingWithCopyWarning: \n",
      "A value is trying to be set on a copy of a slice from a DataFrame.\n",
      "Try using .loc[row_indexer,col_indexer] = value instead\n",
      "\n",
      "See the caveats in the documentation: https://pandas.pydata.org/pandas-docs/stable/user_guide/indexing.html#returning-a-view-versus-a-copy\n",
      "  NYC_orig_dep_delay['month'] = NYC_orig_dep_delay['month'].map(month_mapping)\n"
     ]
    },
    {
     "data": {
      "text/html": [
       "<div>\n",
       "<style scoped>\n",
       "    .dataframe tbody tr th:only-of-type {\n",
       "        vertical-align: middle;\n",
       "    }\n",
       "\n",
       "    .dataframe tbody tr th {\n",
       "        vertical-align: top;\n",
       "    }\n",
       "\n",
       "    .dataframe thead th {\n",
       "        text-align: right;\n",
       "    }\n",
       "</style>\n",
       "<table border=\"1\" class=\"dataframe\">\n",
       "  <thead>\n",
       "    <tr style=\"text-align: right;\">\n",
       "      <th></th>\n",
       "      <th>year</th>\n",
       "      <th>month</th>\n",
       "      <th>day</th>\n",
       "      <th>dep_time</th>\n",
       "      <th>sched_dep_time</th>\n",
       "      <th>dep_delay</th>\n",
       "      <th>arr_time</th>\n",
       "      <th>sched_arr_time</th>\n",
       "      <th>arr_delay</th>\n",
       "      <th>carrier</th>\n",
       "      <th>flight</th>\n",
       "      <th>tailnum</th>\n",
       "      <th>origin</th>\n",
       "      <th>dest</th>\n",
       "      <th>air_time</th>\n",
       "      <th>distance</th>\n",
       "      <th>hour</th>\n",
       "      <th>minute</th>\n",
       "      <th>time_hour</th>\n",
       "    </tr>\n",
       "  </thead>\n",
       "  <tbody>\n",
       "    <tr>\n",
       "      <th>2</th>\n",
       "      <td>2013</td>\n",
       "      <td>January</td>\n",
       "      <td>1</td>\n",
       "      <td>542.0</td>\n",
       "      <td>540</td>\n",
       "      <td>2.0</td>\n",
       "      <td>923.0</td>\n",
       "      <td>850</td>\n",
       "      <td>33.0</td>\n",
       "      <td>AA</td>\n",
       "      <td>1141</td>\n",
       "      <td>N619AA</td>\n",
       "      <td>JFK</td>\n",
       "      <td>MIA</td>\n",
       "      <td>160.0</td>\n",
       "      <td>1089</td>\n",
       "      <td>5</td>\n",
       "      <td>40</td>\n",
       "      <td>2013-01-01 05:00:00</td>\n",
       "    </tr>\n",
       "    <tr>\n",
       "      <th>3</th>\n",
       "      <td>2013</td>\n",
       "      <td>January</td>\n",
       "      <td>1</td>\n",
       "      <td>544.0</td>\n",
       "      <td>545</td>\n",
       "      <td>-1.0</td>\n",
       "      <td>1004.0</td>\n",
       "      <td>1022</td>\n",
       "      <td>-18.0</td>\n",
       "      <td>B6</td>\n",
       "      <td>725</td>\n",
       "      <td>N804JB</td>\n",
       "      <td>JFK</td>\n",
       "      <td>BQN</td>\n",
       "      <td>183.0</td>\n",
       "      <td>1576</td>\n",
       "      <td>5</td>\n",
       "      <td>45</td>\n",
       "      <td>2013-01-01 05:00:00</td>\n",
       "    </tr>\n",
       "    <tr>\n",
       "      <th>8</th>\n",
       "      <td>2013</td>\n",
       "      <td>January</td>\n",
       "      <td>1</td>\n",
       "      <td>557.0</td>\n",
       "      <td>600</td>\n",
       "      <td>-3.0</td>\n",
       "      <td>838.0</td>\n",
       "      <td>846</td>\n",
       "      <td>-8.0</td>\n",
       "      <td>B6</td>\n",
       "      <td>79</td>\n",
       "      <td>N593JB</td>\n",
       "      <td>JFK</td>\n",
       "      <td>MCO</td>\n",
       "      <td>140.0</td>\n",
       "      <td>944</td>\n",
       "      <td>6</td>\n",
       "      <td>0</td>\n",
       "      <td>2013-01-01 06:00:00</td>\n",
       "    </tr>\n",
       "  </tbody>\n",
       "</table>\n",
       "</div>"
      ],
      "text/plain": [
       "   year    month  day  dep_time  sched_dep_time  dep_delay  arr_time  \\\n",
       "2  2013  January    1     542.0             540        2.0     923.0   \n",
       "3  2013  January    1     544.0             545       -1.0    1004.0   \n",
       "8  2013  January    1     557.0             600       -3.0     838.0   \n",
       "\n",
       "   sched_arr_time  arr_delay carrier  flight tailnum origin dest  air_time  \\\n",
       "2             850       33.0      AA    1141  N619AA    JFK  MIA     160.0   \n",
       "3            1022      -18.0      B6     725  N804JB    JFK  BQN     183.0   \n",
       "8             846       -8.0      B6      79  N593JB    JFK  MCO     140.0   \n",
       "\n",
       "   distance  hour  minute           time_hour  \n",
       "2      1089     5      40 2013-01-01 05:00:00  \n",
       "3      1576     5      45 2013-01-01 05:00:00  \n",
       "8       944     6       0 2013-01-01 06:00:00  "
      ]
     },
     "execution_count": 24,
     "metadata": {},
     "output_type": "execute_result"
    }
   ],
   "source": [
    "df_months = pd.read_csv('months.csv', sep=';')\n",
    "month_mapping = dict(zip(df_months['month_number'], df_months['month_name']))\n",
    "NYC_orig_dep_delay['month'] = NYC_orig_dep_delay['month'].map(month_mapping)\n",
    "NYC_orig_dep_delay.head(3)"
   ]
  },
  {
   "cell_type": "markdown",
   "metadata": {},
   "source": [
    "c) Plot a bar chart with the average departure delays by month "
   ]
  },
  {
   "cell_type": "code",
   "execution_count": 25,
   "metadata": {},
   "outputs": [
    {
     "data": {
      "image/png": "[encoded data removed]",
      "text/plain": [
       "<Figure size 1000x600 with 1 Axes>"
      ]
     },
     "metadata": {},
     "output_type": "display_data"
    }
   ],
   "source": [
    "month_order = ['January', 'February', 'March', 'April', 'May', 'June',\n",
    "               'July', 'August', 'September', 'October', 'November', 'December']\n",
    "NYC_group_delay = NYC_orig_dep_delay.groupby('month')['dep_delay']\n",
    "plt.bar(NYC_group_delay.mean().reindex(month_order).index,NYC_group_delay.mean().reindex(month_order))\n",
    "plt.title('Departure delay of JFK flights')\n",
    "plt.xlabel('Month') \n",
    "plt.ylabel('Average Departure Delay (min)')\n",
    "plt.xticks(rotation=45, ha='right')\n",
    "plt.gcf().set_size_inches(10, 6)"
   ]
  },
  {
   "cell_type": "markdown",
   "metadata": {},
   "source": [
    "d) Which month has the highest median departure delay from an NYC airport?"
   ]
  },
  {
   "cell_type": "code",
   "execution_count": 26,
   "metadata": {},
   "outputs": [
    {
     "data": {
      "text/plain": [
       "month\n",
       "July        -2.0\n",
       "December    -3.0\n",
       "June        -3.0\n",
       "August      -4.0\n",
       "February    -4.0\n",
       "May         -4.0\n",
       "April       -5.0\n",
       "January     -5.0\n",
       "March       -5.0\n",
       "November    -6.0\n",
       "October     -6.0\n",
       "September   -6.0\n",
       "Name: dep_delay, dtype: float64"
      ]
     },
     "execution_count": 26,
     "metadata": {},
     "output_type": "execute_result"
    }
   ],
   "source": [
    "NYC_group_delay.median().sort_values(ascending=False)-3"
   ]
  },
  {
   "cell_type": "markdown",
   "metadata": {},
   "source": [
    "e) Is the mean or the median a more reliable measure for deciding which month(s) to avoid flying if you really dislike delayed flights, and why?\n",
    "- Mean would be more reliable as it gives us the true average.\n",
    "- Mean would be more reliable as the distribution of delays is symmetric.\n",
    "- Median would be more reliable as the distribution of delays is skewed.\n",
    "- Median would be more reliable as the distribution of delays is symmetric.\n",
    "- Both give us useful information."
   ]
  },
  {
   "cell_type": "markdown",
   "metadata": {},
   "source": [
    "**Answer**: Median would be more reliable as the distribution of delays is skewed. Mean is more affected by outliers and skewed distributions, whereas median values are more robust measures of central tendencies."
   ]
  },
  {
   "cell_type": "markdown",
   "metadata": {},
   "source": [
    "f) We can also visualize the distributions of departure delays across months using box plots. \n",
    "- Which month has a more extreme value/outlier?\n",
    "- What can be inferred by looking at the box plots across all different months?"
   ]
  },
  {
   "cell_type": "code",
   "execution_count": 27,
   "metadata": {},
   "outputs": [
    {
     "data": {
      "image/png": "[encoded data removed]",
      "text/plain": [
       "<Figure size 1000x600 with 1 Axes>"
      ]
     },
     "metadata": {},
     "output_type": "display_data"
    }
   ],
   "source": [
    "month_order = ['January', 'February', 'March', 'April', 'May', 'June',\n",
    "               'July', 'August', 'September', 'October', 'November', 'December']\n",
    "boxplot_data = [NYC_group_delay.get_group(month) for month in month_order if month in NYC_group_delay.groups]\n",
    "plt.boxplot(boxplot_data, labels=month_order)\n",
    "plt.title('Departure delay of JFK flights')\n",
    "plt.xlabel('Month') \n",
    "plt.ylabel('Departure Delay (min)')\n",
    "plt.xticks(rotation=45, ha='right')\n",
    "plt.gcf().set_size_inches(10, 6)"
   ]
  },
  {
   "cell_type": "markdown",
   "metadata": {},
   "source": [
    "The most extreme outlier is in January.\n",
    "The departure delays vary the most in June, July and December, which could be related to summer and winter holidays. "
   ]
  },
  {
   "cell_type": "markdown",
   "metadata": {},
   "source": [
    "## 5. On time departure rate for NYC airports <a id=\"airports\"></a>"
   ]
  },
  {
   "cell_type": "markdown",
   "metadata": {},
   "source": [
    "### 5.1 Delayed vs on time flights"
   ]
  },
  {
   "cell_type": "markdown",
   "metadata": {},
   "source": [
    "a) Suppose you will be flying out of NYC and want to know which of the three major NYC airports has the best on time departure rate of departing flights. \n",
    "\n",
    "Suppose also that for you a flight that is delayed for less than 5 minutes is basically \"on time\". You consider any flight delayed for 5 minutes of more to be \"delayed\".\n",
    "\n",
    "In order to determine which airport has the best on time departure rate, we need to: \n",
    "\n",
    "- First classify each flight as \"on time\" or \"delayed\". You can use different options like `.apply()` or `where` function. \n",
    "- Then group flights by origin airport.\n",
    "- Then calculate on time departure rates for each origin airport.\n",
    "- And finally arrange the airports in descending order for on time departure percentage."
   ]
  },
  {
   "cell_type": "code",
   "execution_count": 6,
   "metadata": {},
   "outputs": [
    {
     "data": {
      "text/plain": [
       "origin\n",
       "LGA    0.706006\n",
       "JFK    0.679257\n",
       "EWR    0.621922\n",
       "Name: departure_status, dtype: float64"
      ]
     },
     "execution_count": 6,
     "metadata": {},
     "output_type": "execute_result"
    }
   ],
   "source": [
    "def classify_delay_apply(delay):\n",
    "        if delay < 5:\n",
    "            return 'on time'\n",
    "        else:\n",
    "            return 'delayed'\n",
    "df_flight['departure_status'] = df_flight['dep_delay'].apply(classify_delay_apply)\n",
    "df_orig_airport = df_flight.groupby('origin')\n",
    "on_time_dep_rates = df_orig_airport['departure_status'].apply(lambda x: (x == 'on time').mean())\n",
    "on_time_dep_rates = on_time_dep_rates.sort_values(ascending=False)\n",
    "on_time_dep_rates"
   ]
  },
  {
   "cell_type": "markdown",
   "metadata": {},
   "source": [
    "If you were selecting an airport simply based on on time departure percentage, which NYC airport would you choose to fly out of?\n",
    "- EWR.\n",
    "- JFK.\n",
    "- LGA"
   ]
  },
  {
   "cell_type": "markdown",
   "metadata": {},
   "source": [
    "**Answer:**  I would choose LGA, because it has the highes on time departure rate."
   ]
  },
  {
   "cell_type": "markdown",
   "metadata": {},
   "source": [
    "b) Plot a stacked bar chart to see, for each airport, the total number of flights delayed and on time."
   ]
  },
  {
   "cell_type": "code",
   "execution_count": 72,
   "metadata": {},
   "outputs": [
    {
     "data": {
      "text/plain": [
       "<matplotlib.legend.Legend at 0x1d23b3c5050>"
      ]
     },
     "execution_count": 72,
     "metadata": {},
     "output_type": "execute_result"
    },
    {
     "data": {
      "image/png": "[encoded data removed]",
      "text/plain": [
       "<Figure size 1000x600 with 1 Axes>"
      ]
     },
     "metadata": {},
     "output_type": "display_data"
    }
   ],
   "source": [
    "df_dep_ontime_count = df_orig_airport['departure_status'].apply(lambda x: (x == 'on time').sum())\n",
    "plt.bar(df_dep_ontime_count.index,df_dep_ontime_count, label=\"on time\")\n",
    "plt.bar(df_dep_ontime_count.index, df_orig_airport['departure_status'].apply(lambda x: (x == 'delayed').sum()), bottom=df_dep_ontime_count, label = \"delayed\")\n",
    "plt.title('Departure delays')\n",
    "plt.xlabel('Airport') \n",
    "plt.ylabel('Amount of Flights')\n",
    "plt.gcf().set_size_inches(10, 6)\n",
    "plt.legend()"
   ]
  },
  {
   "cell_type": "markdown",
   "metadata": {},
   "source": [
    "### 5.2 Speed of flights and the fastest plane"
   ]
  },
  {
   "cell_type": "markdown",
   "metadata": {},
   "source": [
    "a) Create a new variable called `avg_speed` and find the tail number and the average speed of the plane with the fastest average speed. \n",
    "\n",
    "*Hint*: Average speed can be calculated as distance divided by number of hours of travel, and note that `air_time` is given in minutes."
   ]
  },
  {
   "cell_type": "code",
   "execution_count": 85,
   "metadata": {},
   "outputs": [
    {
     "name": "stdout",
     "output_type": "stream",
     "text": [
      "The flight with tail number N666DN has the fastest average speed of 11.723076923076922 miles per minute.\n"
     ]
    }
   ],
   "source": [
    "avg_speed = df_flight['distance']/df_flight['air_time']\n",
    "df_flight['avg_speed'] = avg_speed\n",
    "\n",
    "print(f\"The flight with tail number {df_flight.loc[df_flight['avg_speed'].idxmax()]['tailnum']} has the fastest average speed of {df_flight.loc[df_flight['avg_speed'].idxmax()]['avg_speed']} miles per minute.\")"
   ]
  },
  {
   "cell_type": "markdown",
   "metadata": {},
   "source": [
    "You can Google this tail number to find out more about the aircraft. "
   ]
  },
  {
   "cell_type": "markdown",
   "metadata": {},
   "source": [
    "b) Make a scatterplot of `avg_speed` vs. `distance` and try to visually identify the flight with the highest average speed. Approximately how many miles did it travel?\n",
    "\n",
    "Which of the following is true about the relationship between average speed and distance:\n",
    "- As distance increases the average speed of flights decreases.\n",
    "- The relationship is linear.\n",
    "- There is an overall postive association between distance and average speed.\n",
    "- There are no outliers.\n",
    "- The distribution of distances are uniform over 0 to 5000 miles."
   ]
  },
  {
   "cell_type": "code",
   "execution_count": 88,
   "metadata": {},
   "outputs": [
    {
     "data": {
      "image/png": "[encoded data removed]",
      "text/plain": [
       "<Figure size 1000x600 with 1 Axes>"
      ]
     },
     "metadata": {},
     "output_type": "display_data"
    }
   ],
   "source": [
    "plt.scatter(df_flight['avg_speed'],df_flight['distance'])\n",
    "plt.title('Departure delays')\n",
    "plt.xlabel('Average speed [miles/min]') \n",
    "plt.ylabel('Distance [miles]')\n",
    "plt.gcf().set_size_inches(10, 6)"
   ]
  },
  {
   "cell_type": "markdown",
   "metadata": {},
   "source": [
    "**Answer:** "
   ]
  },
  {
   "cell_type": "markdown",
   "metadata": {},
   "source": [
    "c) Suppose you define a flight to be \"on time\" if it gets to the destination on time or earlier than expected, regardless of any departure delays. Modify the data frame to create a new variable called `arr_type` with levels `\"on time\"` and `\"delayed\"` based on this definition. Then, determine the on time arrival percentage based on whether the flight departed on time or not. What proportion of flights that were `\"delayed\"` departing arrive `\"on time\"`?"
   ]
  },
  {
   "cell_type": "code",
   "execution_count": 4,
   "metadata": {},
   "outputs": [],
   "source": [
    "def classify_delay_arr_apply(delay):\n",
    "        if delay < 1:\n",
    "            return 'on time'\n",
    "        else:\n",
    "            return 'delayed'\n",
    "df_flight['arr_type'] = df_flight['arr_delay'].apply(classify_delay_arr_apply)"
   ]
  },
  {
   "cell_type": "code",
   "execution_count": 33,
   "metadata": {},
   "outputs": [
    {
     "name": "stdout",
     "output_type": "stream",
     "text": [
      "Proportion of flights that were delayed, but arrived on time were 17.51%.\n"
     ]
    }
   ],
   "source": [
    "df_dep_arr =df_flight.groupby(['departure_status', 'arr_type'])['year'].count()\n",
    "delayed_on_time = df_dep_arr.get(('delayed', 'on time'), 0)\n",
    "delayed_delayed = df_dep_arr.get(('delayed', 'delayed'), 0)\n",
    "\n",
    "proportion = delayed_on_time / (delayed_on_time + delayed_delayed)\n",
    "print(f\"Proportion of flights that were delayed, but arrived on time were {round(proportion*100,2)}%.\")"
   ]
  }
 ],
 "metadata": {
  "kernelspec": {
   "display_name": "Python 3",
   "language": "python",
   "name": "python3"
  },
  "language_info": {
   "codemirror_mode": {
    "name": "ipython",
    "version": 3
   },
   "file_extension": ".py",
   "mimetype": "text/x-python",
   "name": "python",
   "nbconvert_exporter": "python",
   "pygments_lexer": "ipython3",
   "version": "3.11.9"
  }
 },
 "nbformat": 4,
 "nbformat_minor": 2
}
